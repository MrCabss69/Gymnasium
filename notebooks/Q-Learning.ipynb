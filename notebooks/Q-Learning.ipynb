{
 "cells": [
  {
   "cell_type": "code",
   "execution_count": null,
   "metadata": {},
   "outputs": [],
   "source": [
    "# RL - Q-Learning con Keras y Gymnasium\n",
    "################################\n",
    "# Este cuaderno Jupyter presenta una implementación del algoritmo  Q-Learning (DQN) aplicado en entornos de la librería Gymnasium. \n",
    "# Utilizando la librería Keras para construir y entrenar una red neuronal, exploramos cómo un agente aprender de las recompensas del entorno.\n",
    "# Creado por: [@MrCabss69]\n",
    "# Fecha de creación: Thu Mar 07 2024\n"
   ]
  },
  {
   "cell_type": "code",
   "execution_count": null,
   "metadata": {},
   "outputs": [],
   "source": [
    "import gymnasium as gym\n",
    "import numpy as np\n",
    "from tensorflow.keras.models import Sequential\n",
    "from tensorflow.keras.layers import Dense\n",
    "from tensorflow.keras.optimizers import Adam"
   ]
  },
  {
   "cell_type": "code",
   "execution_count": null,
   "metadata": {},
   "outputs": [],
   "source": [
    "def create_model(input_shape, num_actions):\n",
    "    \"\"\"Construye y devuelve el modelo de red neuronal.\"\"\"\n",
    "    model = Sequential([\n",
    "        Dense(512, activation='relu', input_shape=input_shape),\n",
    "        Dense(256, activation='relu'),\n",
    "        Dense(128, activation='relu'),\n",
    "        Dense(num_actions, activation='linear')\n",
    "    ])\n",
    "    model.compile(optimizer=Adam(learning_rate=0.001), loss='mse')\n",
    "    return model\n",
    "\n",
    "def get_action(state, model):\n",
    "    \"\"\"Devuelve la acción basada en la política derivada del modelo.\"\"\"\n",
    "    q_values = model.predict(state)\n",
    "    return np.argmax(q_values[0])\n",
    "\n",
    "def train_model(model, env, episodes=1):\n",
    "    \"\"\"Entrena el modelo en el entorno especificado para un número de episodios.\"\"\"\n",
    "    for episode in range(1, episodes + 1):\n",
    "        state, _ = env.reset()\n",
    "        state = np.expand_dims(state, axis=0)\n",
    "        done = False\n",
    "        score = 0\n",
    "        \n",
    "        while not done:\n",
    "            action = get_action(state, model)\n",
    "            next_state, reward, terminated, truncated, _ = env.step(action)\n",
    "            next_state = np.expand_dims(next_state, axis=0)\n",
    "            score += reward\n",
    "            done = terminated or truncated\n",
    "\n",
    "            # Preparar el target para el entrenamiento\n",
    "            target = reward + 0.99 * np.amax(model.predict(next_state)[0]) if not done else reward\n",
    "            target_f = model.predict(state)\n",
    "            target_f[0][action] = target\n",
    "            \n",
    "            # Entrenar el modelo\n",
    "            model.fit(state, target_f, epochs=1, verbose=0)\n",
    "            state = next_state\n",
    "            \n",
    "        print(f\"Episode: {episode}/{episodes}, Score: {score}\")"
   ]
  },
  {
   "cell_type": "code",
   "execution_count": null,
   "metadata": {},
   "outputs": [],
   "source": [
    "# Inicialización y configuración del entorno\n",
    "env = gym.make(\"CartPole-v1\")\n",
    "observation, _ = env.reset()\n",
    "num_actions = env.action_space.n"
   ]
  },
  {
   "cell_type": "code",
   "execution_count": null,
   "metadata": {},
   "outputs": [],
   "source": [
    "# Inicialización del modelo\n",
    "model = create_model(env.observation_space.shape, num_actions)"
   ]
  },
  {
   "cell_type": "code",
   "execution_count": null,
   "metadata": {},
   "outputs": [],
   "source": [
    "# Entrenamiento del modelo\n",
    "train_model(model, env, episodes=1000)"
   ]
  },
  {
   "cell_type": "code",
   "execution_count": null,
   "metadata": {},
   "outputs": [],
   "source": [
    "model.save('/trained/ql_1k.h5')"
   ]
  },
  {
   "cell_type": "code",
   "execution_count": null,
   "metadata": {},
   "outputs": [],
   "source": [
    "# Cierre del entorno\n",
    "env.close()"
   ]
  }
 ],
 "metadata": {
  "kernelspec": {
   "display_name": "Python 3",
   "language": "python",
   "name": "python3"
  },
  "language_info": {
   "codemirror_mode": {
    "name": "ipython",
    "version": 3
   },
   "file_extension": ".py",
   "mimetype": "text/x-python",
   "name": "python",
   "nbconvert_exporter": "python",
   "pygments_lexer": "ipython3",
   "version": "3.11.8"
  }
 },
 "nbformat": 4,
 "nbformat_minor": 2
}
